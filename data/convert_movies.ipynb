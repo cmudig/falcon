{
 "cells": [
  {
   "cell_type": "code",
   "execution_count": 96,
   "metadata": {},
   "outputs": [],
   "source": [
    "import pandas as pd\n",
    "import pyarrow as pa\n",
    "import numpy as np\n",
    "import json\n",
    "from datetime import date, datetime"
   ]
  },
  {
   "cell_type": "code",
   "execution_count": 116,
   "metadata": {},
   "outputs": [],
   "source": [
    "def parseDate(date):\n",
    "    if date is None:\n",
    "        return date\n",
    "    \n",
    "    try:\n",
    "        return datetime.strptime(date, '%d-%b-%y')\n",
    "    except:\n",
    "        try:\n",
    "            return datetime.strptime(date, '%Y-%m-%d')\n",
    "        except:\n",
    "            return datetime.strptime(date, '%B, %Y')"
   ]
  },
  {
   "cell_type": "code",
   "execution_count": 117,
   "metadata": {},
   "outputs": [
    {
     "data": {
      "text/html": [
       "<div>\n",
       "<style scoped>\n",
       "    .dataframe tbody tr th:only-of-type {\n",
       "        vertical-align: middle;\n",
       "    }\n",
       "\n",
       "    .dataframe tbody tr th {\n",
       "        vertical-align: top;\n",
       "    }\n",
       "\n",
       "    .dataframe thead th {\n",
       "        text-align: right;\n",
       "    }\n",
       "</style>\n",
       "<table border=\"1\" class=\"dataframe\">\n",
       "  <thead>\n",
       "    <tr style=\"text-align: right;\">\n",
       "      <th></th>\n",
       "      <th>IMDB_Rating</th>\n",
       "      <th>IMDB_Votes</th>\n",
       "      <th>Production_Budget</th>\n",
       "      <th>Rotten_Tomatoes_Rating</th>\n",
       "      <th>Running_Time_min</th>\n",
       "      <th>US_DVD_Sales</th>\n",
       "      <th>US_Gross</th>\n",
       "      <th>Worldwide_Gross</th>\n",
       "    </tr>\n",
       "  </thead>\n",
       "  <tbody>\n",
       "    <tr>\n",
       "      <th>count</th>\n",
       "      <td>2988.000000</td>\n",
       "      <td>2988.000000</td>\n",
       "      <td>3.200000e+03</td>\n",
       "      <td>2321.000000</td>\n",
       "      <td>1209.000000</td>\n",
       "      <td>5.640000e+02</td>\n",
       "      <td>3.194000e+03</td>\n",
       "      <td>3.194000e+03</td>\n",
       "    </tr>\n",
       "    <tr>\n",
       "      <th>mean</th>\n",
       "      <td>6.283467</td>\n",
       "      <td>29908.644578</td>\n",
       "      <td>3.106917e+07</td>\n",
       "      <td>54.336924</td>\n",
       "      <td>110.193548</td>\n",
       "      <td>3.490155e+07</td>\n",
       "      <td>4.400209e+07</td>\n",
       "      <td>8.534340e+07</td>\n",
       "    </tr>\n",
       "    <tr>\n",
       "      <th>std</th>\n",
       "      <td>1.252290</td>\n",
       "      <td>44937.582335</td>\n",
       "      <td>3.558591e+07</td>\n",
       "      <td>28.076593</td>\n",
       "      <td>20.171014</td>\n",
       "      <td>4.589512e+07</td>\n",
       "      <td>6.255531e+07</td>\n",
       "      <td>1.499473e+08</td>\n",
       "    </tr>\n",
       "    <tr>\n",
       "      <th>min</th>\n",
       "      <td>1.400000</td>\n",
       "      <td>18.000000</td>\n",
       "      <td>2.180000e+02</td>\n",
       "      <td>1.000000</td>\n",
       "      <td>46.000000</td>\n",
       "      <td>6.184540e+05</td>\n",
       "      <td>0.000000e+00</td>\n",
       "      <td>0.000000e+00</td>\n",
       "    </tr>\n",
       "    <tr>\n",
       "      <th>25%</th>\n",
       "      <td>5.600000</td>\n",
       "      <td>4828.500000</td>\n",
       "      <td>6.575000e+06</td>\n",
       "      <td>30.000000</td>\n",
       "      <td>95.000000</td>\n",
       "      <td>9.906211e+06</td>\n",
       "      <td>5.493221e+06</td>\n",
       "      <td>8.031285e+06</td>\n",
       "    </tr>\n",
       "    <tr>\n",
       "      <th>50%</th>\n",
       "      <td>6.400000</td>\n",
       "      <td>15106.000000</td>\n",
       "      <td>2.000000e+07</td>\n",
       "      <td>55.000000</td>\n",
       "      <td>107.000000</td>\n",
       "      <td>2.033156e+07</td>\n",
       "      <td>2.201947e+07</td>\n",
       "      <td>3.116893e+07</td>\n",
       "    </tr>\n",
       "    <tr>\n",
       "      <th>75%</th>\n",
       "      <td>7.200000</td>\n",
       "      <td>35810.500000</td>\n",
       "      <td>4.200000e+07</td>\n",
       "      <td>80.000000</td>\n",
       "      <td>121.000000</td>\n",
       "      <td>3.779422e+07</td>\n",
       "      <td>5.609176e+07</td>\n",
       "      <td>9.728380e+07</td>\n",
       "    </tr>\n",
       "    <tr>\n",
       "      <th>max</th>\n",
       "      <td>9.200000</td>\n",
       "      <td>519541.000000</td>\n",
       "      <td>3.000000e+08</td>\n",
       "      <td>100.000000</td>\n",
       "      <td>222.000000</td>\n",
       "      <td>3.525821e+08</td>\n",
       "      <td>7.601676e+08</td>\n",
       "      <td>2.767891e+09</td>\n",
       "    </tr>\n",
       "  </tbody>\n",
       "</table>\n",
       "</div>"
      ],
      "text/plain": [
       "       IMDB_Rating     IMDB_Votes  Production_Budget  Rotten_Tomatoes_Rating  \\\n",
       "count  2988.000000    2988.000000       3.200000e+03             2321.000000   \n",
       "mean      6.283467   29908.644578       3.106917e+07               54.336924   \n",
       "std       1.252290   44937.582335       3.558591e+07               28.076593   \n",
       "min       1.400000      18.000000       2.180000e+02                1.000000   \n",
       "25%       5.600000    4828.500000       6.575000e+06               30.000000   \n",
       "50%       6.400000   15106.000000       2.000000e+07               55.000000   \n",
       "75%       7.200000   35810.500000       4.200000e+07               80.000000   \n",
       "max       9.200000  519541.000000       3.000000e+08              100.000000   \n",
       "\n",
       "       Running_Time_min  US_DVD_Sales      US_Gross  Worldwide_Gross  \n",
       "count       1209.000000  5.640000e+02  3.194000e+03     3.194000e+03  \n",
       "mean         110.193548  3.490155e+07  4.400209e+07     8.534340e+07  \n",
       "std           20.171014  4.589512e+07  6.255531e+07     1.499473e+08  \n",
       "min           46.000000  6.184540e+05  0.000000e+00     0.000000e+00  \n",
       "25%           95.000000  9.906211e+06  5.493221e+06     8.031285e+06  \n",
       "50%          107.000000  2.033156e+07  2.201947e+07     3.116893e+07  \n",
       "75%          121.000000  3.779422e+07  5.609176e+07     9.728380e+07  \n",
       "max          222.000000  3.525821e+08  7.601676e+08     2.767891e+09  "
      ]
     },
     "execution_count": 117,
     "metadata": {},
     "output_type": "execute_result"
    }
   ],
   "source": [
    "data = pd.read_json('movies.json', encoding='utf-8')\n",
    "data.describe()"
   ]
  },
  {
   "cell_type": "code",
   "execution_count": 118,
   "metadata": {},
   "outputs": [],
   "source": [
    "cleaned = data.copy()\n",
    "cleaned['Release_Date'] = cleaned.Release_Date.apply(parseDate).apply(lambda x: x.strftime('%Y-%m-%d') if isinstance(x, pd.Timestamp) else x)\n",
    "cleaned.to_json('movies_clean.json', orient='records')"
   ]
  },
  {
   "cell_type": "code",
   "execution_count": 119,
   "metadata": {},
   "outputs": [],
   "source": [
    "subset = data[[\"IMDB_Rating\", \"IMDB_Votes\", \"Rotten_Tomatoes_Rating\", \"Production_Budget\",\n",
    "               \"Running_Time_min\", \"Release_Date\", \"US_DVD_Sales\", \"US_Gross\", \"Worldwide_Gross\"]]"
   ]
  },
  {
   "cell_type": "code",
   "execution_count": 120,
   "metadata": {},
   "outputs": [
    {
     "name": "stderr",
     "output_type": "stream",
     "text": [
      "/Users/domoritz/anaconda3/envs/vega/lib/python3.6/site-packages/ipykernel/__main__.py:1: SettingWithCopyWarning: \n",
      "A value is trying to be set on a copy of a slice from a DataFrame.\n",
      "Try using .loc[row_indexer,col_indexer] = value instead\n",
      "\n",
      "See the caveats in the documentation: http://pandas.pydata.org/pandas-docs/stable/indexing.html#indexing-view-versus-copy\n",
      "  if __name__ == '__main__':\n"
     ]
    }
   ],
   "source": [
    "subset['Release_Date'] = data.Release_Date.apply(parseDate).apply(lambda x: x.date())"
   ]
  },
  {
   "cell_type": "code",
   "execution_count": 121,
   "metadata": {},
   "outputs": [
    {
     "name": "stderr",
     "output_type": "stream",
     "text": [
      "/Users/domoritz/anaconda3/envs/vega/lib/python3.6/site-packages/pandas/core/generic.py:5430: SettingWithCopyWarning: \n",
      "A value is trying to be set on a copy of a slice from a DataFrame\n",
      "\n",
      "See the caveats in the documentation: http://pandas.pydata.org/pandas-docs/stable/indexing.html#indexing-view-versus-copy\n",
      "  self._update_inplace(new_data)\n"
     ]
    }
   ],
   "source": [
    "subset['US_DVD_Sales'].fillna(0, inplace=True)"
   ]
  },
  {
   "cell_type": "code",
   "execution_count": 122,
   "metadata": {},
   "outputs": [
    {
     "data": {
      "text/html": [
       "<div>\n",
       "<style scoped>\n",
       "    .dataframe tbody tr th:only-of-type {\n",
       "        vertical-align: middle;\n",
       "    }\n",
       "\n",
       "    .dataframe tbody tr th {\n",
       "        vertical-align: top;\n",
       "    }\n",
       "\n",
       "    .dataframe thead th {\n",
       "        text-align: right;\n",
       "    }\n",
       "</style>\n",
       "<table border=\"1\" class=\"dataframe\">\n",
       "  <thead>\n",
       "    <tr style=\"text-align: right;\">\n",
       "      <th></th>\n",
       "      <th>IMDB_Rating</th>\n",
       "      <th>IMDB_Votes</th>\n",
       "      <th>Rotten_Tomatoes_Rating</th>\n",
       "      <th>Production_Budget</th>\n",
       "      <th>Running_Time_min</th>\n",
       "      <th>Release_Date</th>\n",
       "      <th>US_DVD_Sales</th>\n",
       "      <th>US_Gross</th>\n",
       "      <th>Worldwide_Gross</th>\n",
       "    </tr>\n",
       "  </thead>\n",
       "  <tbody>\n",
       "    <tr>\n",
       "      <th>0</th>\n",
       "      <td>6.1</td>\n",
       "      <td>1071.0</td>\n",
       "      <td>NaN</td>\n",
       "      <td>8000000.0</td>\n",
       "      <td>NaN</td>\n",
       "      <td>1998-06-12</td>\n",
       "      <td>0.0</td>\n",
       "      <td>146083.0</td>\n",
       "      <td>146083.0</td>\n",
       "    </tr>\n",
       "    <tr>\n",
       "      <th>1</th>\n",
       "      <td>6.9</td>\n",
       "      <td>207.0</td>\n",
       "      <td>NaN</td>\n",
       "      <td>300000.0</td>\n",
       "      <td>NaN</td>\n",
       "      <td>1998-08-07</td>\n",
       "      <td>0.0</td>\n",
       "      <td>10876.0</td>\n",
       "      <td>10876.0</td>\n",
       "    </tr>\n",
       "    <tr>\n",
       "      <th>2</th>\n",
       "      <td>6.8</td>\n",
       "      <td>865.0</td>\n",
       "      <td>NaN</td>\n",
       "      <td>250000.0</td>\n",
       "      <td>NaN</td>\n",
       "      <td>1998-08-28</td>\n",
       "      <td>0.0</td>\n",
       "      <td>203134.0</td>\n",
       "      <td>203134.0</td>\n",
       "    </tr>\n",
       "    <tr>\n",
       "      <th>3</th>\n",
       "      <td>NaN</td>\n",
       "      <td>NaN</td>\n",
       "      <td>13.0</td>\n",
       "      <td>300000.0</td>\n",
       "      <td>NaN</td>\n",
       "      <td>1998-09-11</td>\n",
       "      <td>0.0</td>\n",
       "      <td>373615.0</td>\n",
       "      <td>373615.0</td>\n",
       "    </tr>\n",
       "    <tr>\n",
       "      <th>4</th>\n",
       "      <td>3.4</td>\n",
       "      <td>165.0</td>\n",
       "      <td>62.0</td>\n",
       "      <td>1000000.0</td>\n",
       "      <td>NaN</td>\n",
       "      <td>1998-10-09</td>\n",
       "      <td>0.0</td>\n",
       "      <td>1009819.0</td>\n",
       "      <td>1087521.0</td>\n",
       "    </tr>\n",
       "  </tbody>\n",
       "</table>\n",
       "</div>"
      ],
      "text/plain": [
       "   IMDB_Rating  IMDB_Votes  Rotten_Tomatoes_Rating  Production_Budget  \\\n",
       "0          6.1      1071.0                     NaN          8000000.0   \n",
       "1          6.9       207.0                     NaN           300000.0   \n",
       "2          6.8       865.0                     NaN           250000.0   \n",
       "3          NaN         NaN                    13.0           300000.0   \n",
       "4          3.4       165.0                    62.0          1000000.0   \n",
       "\n",
       "   Running_Time_min Release_Date  US_DVD_Sales   US_Gross  Worldwide_Gross  \n",
       "0               NaN   1998-06-12           0.0   146083.0         146083.0  \n",
       "1               NaN   1998-08-07           0.0    10876.0          10876.0  \n",
       "2               NaN   1998-08-28           0.0   203134.0         203134.0  \n",
       "3               NaN   1998-09-11           0.0   373615.0         373615.0  \n",
       "4               NaN   1998-10-09           0.0  1009819.0        1087521.0  "
      ]
     },
     "execution_count": 122,
     "metadata": {},
     "output_type": "execute_result"
    }
   ],
   "source": [
    "subset.head()"
   ]
  },
  {
   "cell_type": "code",
   "execution_count": 123,
   "metadata": {},
   "outputs": [
    {
     "data": {
      "text/plain": [
       "982"
      ]
     },
     "execution_count": 123,
     "metadata": {},
     "output_type": "execute_result"
    }
   ],
   "source": [
    "subset = subset.dropna()\n",
    "len(subset)"
   ]
  },
  {
   "cell_type": "code",
   "execution_count": 124,
   "metadata": {},
   "outputs": [],
   "source": [
    "table = pa.Table.from_pandas(subset)\n",
    "\n",
    "writer = pa.RecordBatchFileWriter('movies.arrow', table.schema)\n",
    "writer.write(table)\n",
    "writer.close()"
   ]
  },
  {
   "cell_type": "code",
   "execution_count": 125,
   "metadata": {},
   "outputs": [
    {
     "name": "stdout",
     "output_type": "stream",
     "text": [
      "total 5101208\n",
      "drwxr-xr-x@ 32 domoritz  staff   1.0K Jul 10 00:21 \u001b[34m.\u001b[m\u001b[m\n",
      "drwxr-xr-x  22 domoritz  staff   704B Jul  9 23:53 \u001b[34m..\u001b[m\u001b[m\n",
      "-rw-r--r--@  1 domoritz  staff   6.0K Nov 29  2017 .DS_Store\n",
      "drwxr-xr-x   8 domoritz  staff   256B Jul  9 23:30 \u001b[34m.ipynb_checkpoints\u001b[m\u001b[m\n",
      "-rw-r--r--@  1 domoritz  staff    28M Nov 28  2017 564230852_T_ONTIME.csv\n",
      "-rw-r--r--@  1 domoritz  staff   6.3M Nov 28  2017 564230852_T_ONTIME.zip\n",
      "-rw-r--r--   1 domoritz  staff    12K Jul  9 15:38 convert_flights.ipynb\n",
      "-rw-r--r--   1 domoritz  staff    16K Jul 10 00:21 convert_movies.ipynb\n",
      "-rw-r--r--   1 domoritz  staff    17K Jul 10 00:03 convert_weather.ipynb\n",
      "-rw-r--r--   1 domoritz  staff   276K Jun 29 14:51 flights-10k.arrow\n",
      "-rw-r--r--   1 domoritz  staff   400K Nov 29  2017 flights-10k.csv\n",
      "-rw-r--r--   1 domoritz  staff   409K Jun  8 22:39 flights-10k.json\n",
      "-rw-r--r--   1 domoritz  staff   288M Jun 29 14:51 flights-10m.arrow\n",
      "-rw-r--r--   1 domoritz  staff   439M Jun 16 10:21 flights-10m.csv\n",
      "-rw-r--r--   1 domoritz  staff    29M Jun 29 14:51 flights-1m.arrow\n",
      "-rw-r--r--   1 domoritz  staff    31M Nov 29  2017 flights-1m.csv\n",
      "-rw-r--r--   1 domoritz  staff   5.6M Jun 29 14:51 flights-200k.arrow\n",
      "-rw-r--r--   1 domoritz  staff   7.7M Feb 13 21:44 flights-200k.csv\n",
      "-rw-r--r--   1 domoritz  staff    88M Jun 29 14:51 flights-3m.arrow\n",
      "-rw-r--r--   1 domoritz  staff    92M Nov 29  2017 flights-3m.csv\n",
      "-rw-r--r--   1 domoritz  staff    14M Jun 29 14:51 flights-500k.arrow\n",
      "-rw-r--r--@  1 domoritz  staff    18M Feb 13 21:44 flights-500k.csv\n",
      "-rw-r--r--   1 domoritz  staff    78K Jul 10 00:22 movies.arrow\n",
      "-rw-r--r--@  1 domoritz  staff   1.2M Jul  9 23:31 movies.json\n",
      "-rw-r--r--   1 domoritz  staff   1.3M Jul 10 00:21 movies_clean.json\n",
      "-rw-r--r--   1 domoritz  staff   440K Jul 10 00:01 weather-10k.arrow\n",
      "-rw-r--r--   1 domoritz  staff   156M Jul 10 00:01 weather-10m.arrow\n",
      "-rw-r--r--   1 domoritz  staff   1.0G Jul  9 16:30 weather-10m.csv\n",
      "-rw-r--r--   1 domoritz  staff    44M Jul 10 00:01 weather-1m.arrow\n",
      "-rw-r--r--   1 domoritz  staff   8.7M Jul 10 00:01 weather-200k.arrow\n",
      "-rw-r--r--   1 domoritz  staff   134M Jul 10 00:01 weather-3m.arrow\n",
      "-rw-r--r--   1 domoritz  staff    22M Jul 10 00:01 weather-500k.arrow\n"
     ]
    }
   ],
   "source": [
    "!ls -lah"
   ]
  },
  {
   "cell_type": "code",
   "execution_count": null,
   "metadata": {},
   "outputs": [],
   "source": []
  }
 ],
 "metadata": {
  "kernelspec": {
   "display_name": "Python [conda env:vega]",
   "language": "python",
   "name": "conda-env-vega-py"
  },
  "language_info": {
   "codemirror_mode": {
    "name": "ipython",
    "version": 3
   },
   "file_extension": ".py",
   "mimetype": "text/x-python",
   "name": "python",
   "nbconvert_exporter": "python",
   "pygments_lexer": "ipython3",
   "version": "3.6.5"
  }
 },
 "nbformat": 4,
 "nbformat_minor": 2
}
