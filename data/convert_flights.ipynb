{
 "cells": [
  {
   "cell_type": "code",
   "execution_count": 28,
   "metadata": {},
   "outputs": [],
   "source": [
    "import pandas as pd\n",
    "import pyarrow as pa\n",
    "import pyarrow.parquet as pq\n",
    "import numpy as np\n",
    "import json\n",
    "from datetime import date, datetime"
   ]
  },
  {
   "cell_type": "code",
   "execution_count": 2,
   "metadata": {},
   "outputs": [],
   "source": [
    "with_json = False"
   ]
  },
  {
   "cell_type": "code",
   "execution_count": 3,
   "metadata": {},
   "outputs": [],
   "source": [
    "def json_serial(obj):\n",
    "    return int(obj.strftime(\"%s\"))"
   ]
  },
  {
   "cell_type": "code",
   "execution_count": 18,
   "metadata": {},
   "outputs": [],
   "source": [
    "data = pd.read_csv('flights_2006_2010.csv', sep='\\t', encoding='utf-8', dtype={'FlightDate': 'str', 'ArrTime': 'str', 'DepTime': 'str'})"
   ]
  },
  {
   "cell_type": "code",
   "execution_count": 91,
   "metadata": {},
   "outputs": [],
   "source": [
    "renamed = data.rename(index=str, columns={\"FlightDate\": \"FL_DATE\", \"DepTime\": \"DEP_TIME\", \"ArrTime\": \"ARR_TIME\", \"Distance\": \"DISTANCE\", \"AirTime\": \"AIR_TIME\", \"DepDelay\": \"DEP_DELAY\", \"ArrDelay\": \"ARR_DELAY\"})\n",
    "\n",
    "renamed['FL_DATE'] = pd.to_datetime(renamed.FL_DATE, format='%Y-%m-%d').dt.date\n",
    "\n",
    "renamed['DEP_TIME'] = renamed.DEP_TIME.replace('2400', '0000')\n",
    "renamed['ARR_TIME'] = renamed.ARR_TIME.replace('2400', '0000')\n",
    "\n",
    "def toTime(col):\n",
    "    col = pd.to_numeric(col)\n",
    "    col = (col/100).apply(np.floor) + (col.mod(100)) / 60.\n",
    "    return col\n",
    "\n",
    "renamed['DEP_TIME'] = toTime(renamed['DEP_TIME'])\n",
    "renamed['ARR_TIME'] = toTime(renamed['ARR_TIME'])\n",
    "\n",
    "types = {\n",
    "    'DEP_DELAY': 'int16',\n",
    "    'ARR_DELAY': 'int16',\n",
    "    'AIR_TIME': 'int16',\n",
    "    'DISTANCE': 'int16',\n",
    "    'DEP_TIME': 'float16',\n",
    "    'ARR_TIME': 'float16'\n",
    "}\n",
    "columns = ['FL_DATE'] + list(types.keys())\n",
    "renamed = renamed[columns]\n",
    "renamed = renamed.dropna()\n",
    "\n",
    "right_types = renamed.astype(types)"
   ]
  },
  {
   "cell_type": "code",
   "execution_count": 92,
   "metadata": {},
   "outputs": [
    {
     "data": {
      "text/html": [
       "<div>\n",
       "<style scoped>\n",
       "    .dataframe tbody tr th:only-of-type {\n",
       "        vertical-align: middle;\n",
       "    }\n",
       "\n",
       "    .dataframe tbody tr th {\n",
       "        vertical-align: top;\n",
       "    }\n",
       "\n",
       "    .dataframe thead th {\n",
       "        text-align: right;\n",
       "    }\n",
       "</style>\n",
       "<table border=\"1\" class=\"dataframe\">\n",
       "  <thead>\n",
       "    <tr style=\"text-align: right;\">\n",
       "      <th></th>\n",
       "      <th>FL_DATE</th>\n",
       "      <th>DEP_DELAY</th>\n",
       "      <th>ARR_DELAY</th>\n",
       "      <th>AIR_TIME</th>\n",
       "      <th>DISTANCE</th>\n",
       "      <th>DEP_TIME</th>\n",
       "      <th>ARR_TIME</th>\n",
       "    </tr>\n",
       "  </thead>\n",
       "  <tbody>\n",
       "    <tr>\n",
       "      <th>0</th>\n",
       "      <td>2006-01-01</td>\n",
       "      <td>5.0</td>\n",
       "      <td>19.0</td>\n",
       "      <td>350.0</td>\n",
       "      <td>2475.0</td>\n",
       "      <td>9.083333</td>\n",
       "      <td>12.483333</td>\n",
       "    </tr>\n",
       "    <tr>\n",
       "      <th>1</th>\n",
       "      <td>2006-01-02</td>\n",
       "      <td>167.0</td>\n",
       "      <td>216.0</td>\n",
       "      <td>343.0</td>\n",
       "      <td>2475.0</td>\n",
       "      <td>11.783333</td>\n",
       "      <td>15.766667</td>\n",
       "    </tr>\n",
       "    <tr>\n",
       "      <th>2</th>\n",
       "      <td>2006-01-03</td>\n",
       "      <td>-7.0</td>\n",
       "      <td>-2.0</td>\n",
       "      <td>344.0</td>\n",
       "      <td>2475.0</td>\n",
       "      <td>8.883333</td>\n",
       "      <td>12.133333</td>\n",
       "    </tr>\n",
       "    <tr>\n",
       "      <th>3</th>\n",
       "      <td>2006-01-04</td>\n",
       "      <td>-5.0</td>\n",
       "      <td>-13.0</td>\n",
       "      <td>331.0</td>\n",
       "      <td>2475.0</td>\n",
       "      <td>8.916667</td>\n",
       "      <td>11.950000</td>\n",
       "    </tr>\n",
       "    <tr>\n",
       "      <th>4</th>\n",
       "      <td>2006-01-05</td>\n",
       "      <td>-3.0</td>\n",
       "      <td>-17.0</td>\n",
       "      <td>321.0</td>\n",
       "      <td>2475.0</td>\n",
       "      <td>8.950000</td>\n",
       "      <td>11.883333</td>\n",
       "    </tr>\n",
       "  </tbody>\n",
       "</table>\n",
       "</div>"
      ],
      "text/plain": [
       "      FL_DATE  DEP_DELAY  ARR_DELAY  AIR_TIME  DISTANCE   DEP_TIME   ARR_TIME\n",
       "0  2006-01-01        5.0       19.0     350.0    2475.0   9.083333  12.483333\n",
       "1  2006-01-02      167.0      216.0     343.0    2475.0  11.783333  15.766667\n",
       "2  2006-01-03       -7.0       -2.0     344.0    2475.0   8.883333  12.133333\n",
       "3  2006-01-04       -5.0      -13.0     331.0    2475.0   8.916667  11.950000\n",
       "4  2006-01-05       -3.0      -17.0     321.0    2475.0   8.950000  11.883333"
      ]
     },
     "execution_count": 92,
     "metadata": {},
     "output_type": "execute_result"
    }
   ],
   "source": [
    "renamed.head()"
   ]
  },
  {
   "cell_type": "code",
   "execution_count": 93,
   "metadata": {},
   "outputs": [
    {
     "name": "stdout",
     "output_type": "stream",
     "text": [
      "flights-10k 10000\n",
      "flights-200k 200000\n",
      "flights-500k 500000\n",
      "flights-1m 1000000\n",
      "flights-3m 3000000\n",
      "flights-10m 10000000\n"
     ]
    }
   ],
   "source": [
    "for size, name in [(10000, 'flights-10k'), (200000, 'flights-200k'), (500000, 'flights-500k'), (1000000, 'flights-1m'), (3000000, 'flights-3m'), (10000000, 'flights-10m')]:\n",
    "    smaller = right_types[:size]\n",
    "    \n",
    "    print(name, len(smaller))\n",
    "    \n",
    "    table = pa.Table.from_pandas(smaller, preserve_index=False)\n",
    "    \n",
    "    if with_json:\n",
    "        d = {}\n",
    "        for column in smaller.columns:\n",
    "            d[column]=list(smaller[column])\n",
    "\n",
    "        with open(f'{name}.json', 'w') as f:\n",
    "            json.dump(d, f, default=json_serial, separators=(',', ':'))\n",
    "\n",
    "    # table = table.column('ARRIVAL').cast(pa.TimestampValue, True)\n",
    "\n",
    "    # optionally, write parquet files\n",
    "    # pq.write_table(table, f'{name}.parquet')\n",
    "    \n",
    "    writer = pa.RecordBatchFileWriter(f'{name}.arrow', table.schema)\n",
    "    writer.write(table)\n",
    "    writer.close()"
   ]
  },
  {
   "cell_type": "code",
   "execution_count": 94,
   "metadata": {},
   "outputs": [
    {
     "name": "stdout",
     "output_type": "stream",
     "text": [
      "total 11634064\n",
      "drwxr-xr-x  31 dominik  staff   992B Apr 28 21:01 \u001b[34m.\u001b[m\u001b[m\n",
      "drwxr-xr-x  31 dominik  staff   992B Apr 28 19:21 \u001b[34m..\u001b[m\u001b[m\n",
      "drwxr-xr-x   3 dominik  staff    96B Apr 28 19:25 \u001b[34m.ipynb_checkpoints\u001b[m\u001b[m\n",
      "-rw-r--r--   1 dominik  staff    28M Sep 30  2019 564230852_T_ONTIME.csv\n",
      "-rw-r--r--   1 dominik  staff   5.9K Apr 28 21:01 convert_flights.ipynb\n",
      "-rw-r--r--   1 dominik  staff    17K Sep 30  2019 convert_movies.ipynb\n",
      "-rw-r--r--   1 dominik  staff    15K Sep 30  2019 convert_weather.ipynb\n",
      "-rw-r--r--   1 dominik  staff    20M Sep 30  2019 error analysis-full.ipynb\n",
      "-rw-r--r--   1 dominik  staff    11M Sep 30  2019 error analysis.ipynb\n",
      "-rw-r--r--   1 dominik  staff   160K Apr 28 21:04 flights-10k.arrow\n",
      "-rw-r--r--   1 dominik  staff   400K Sep 30  2019 flights-10k.csv\n",
      "-rw-r--r--   1 dominik  staff   409K Sep 30  2019 flights-10k.json\n",
      "-rw-r--r--   1 dominik  staff    78K Apr 28 20:39 flights-10k.parquet\n",
      "-rw-r--r--   1 dominik  staff   153M Apr 28 21:04 flights-10m.arrow\n",
      "-rw-r--r--   1 dominik  staff    68M Apr 28 20:40 flights-10m.parquet\n",
      "-rw-r--r--   1 dominik  staff    15M Apr 28 21:04 flights-1m.arrow\n",
      "-rw-r--r--   1 dominik  staff    31M Sep 30  2019 flights-1m.csv\n",
      "-rw-r--r--   1 dominik  staff   6.8M Apr 28 20:39 flights-1m.parquet\n",
      "-rw-r--r--   1 dominik  staff   3.1M Apr 28 21:04 flights-200k.arrow\n",
      "-rw-r--r--   1 dominik  staff   7.7M Sep 30  2019 flights-200k.csv\n",
      "-rw-r--r--   1 dominik  staff   1.3M Apr 28 20:39 flights-200k.parquet\n",
      "-rw-r--r--   1 dominik  staff    46M Apr 28 21:04 flights-3m.arrow\n",
      "-rw-r--r--   1 dominik  staff    92M Sep 30  2019 flights-3m.csv\n",
      "-rw-r--r--   1 dominik  staff    20M Apr 28 20:39 flights-3m.parquet\n",
      "-rw-r--r--   1 dominik  staff   7.6M Apr 28 21:04 flights-500k.arrow\n",
      "-rw-r--r--   1 dominik  staff    18M Sep 30  2019 flights-500k.csv\n",
      "-rw-r--r--   1 dominik  staff   3.4M Apr 28 20:39 flights-500k.parquet\n",
      "-rw-r--r--@  1 dominik  staff   5.0G Sep  1  2020 flights_2006_2010.csv\n",
      "-rw-r--r--   1 dominik  staff    78K Sep 30  2019 movies.arrow\n",
      "-rw-r--r--   1 dominik  staff   1.2M Sep 30  2019 movies.json\n",
      "-rw-r--r--   1 dominik  staff   440K Sep 30  2019 weather-10k.arrow\n"
     ]
    }
   ],
   "source": [
    "!ls -lah"
   ]
  },
  {
   "cell_type": "code",
   "execution_count": null,
   "metadata": {},
   "outputs": [],
   "source": []
  }
 ],
 "metadata": {
  "kernelspec": {
   "display_name": "Python 3",
   "language": "python",
   "name": "python3"
  },
  "language_info": {
   "codemirror_mode": {
    "name": "ipython",
    "version": 3
   },
   "file_extension": ".py",
   "mimetype": "text/x-python",
   "name": "python",
   "nbconvert_exporter": "python",
   "pygments_lexer": "ipython3",
   "version": "3.7.10"
  }
 },
 "nbformat": 4,
 "nbformat_minor": 4
}
