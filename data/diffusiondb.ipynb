{
 "cells": [
  {
   "cell_type": "code",
   "execution_count": 16,
   "metadata": {},
   "outputs": [],
   "source": [
    "from urllib.request import urlretrieve\n",
    "import pandas as pd\n",
    "import dataio as io\n",
    "import os"
   ]
  },
  {
   "cell_type": "code",
   "execution_count": 17,
   "metadata": {},
   "outputs": [],
   "source": [
    "def download_diffusiondb(filename):\n",
    "\ttable_url = f'https://huggingface.co/datasets/poloclub/diffusiondb/resolve/main/metadata.parquet'\n",
    "\turlretrieve(table_url, filename)\n",
    "\n",
    "# if the diffusiondb.parquet already exists, don't download it again\n",
    "filename = 'diffusiondb.parquet'\n",
    "if not os.path.isfile(filename):\n",
    "\tdownload_diffusiondb(filename)"
   ]
  },
  {
   "cell_type": "code",
   "execution_count": 18,
   "metadata": {},
   "outputs": [
    {
     "data": {
      "text/plain": [
       "100000"
      ]
     },
     "execution_count": 18,
     "metadata": {},
     "output_type": "execute_result"
    }
   ],
   "source": [
    "table = io.n_rows_parquet('diffusiondb.parquet', n_rows=100_000)\n",
    "len(table)"
   ]
  },
  {
   "cell_type": "code",
   "execution_count": 19,
   "metadata": {},
   "outputs": [
    {
     "data": {
      "text/html": [
       "<div>\n",
       "<style scoped>\n",
       "    .dataframe tbody tr th:only-of-type {\n",
       "        vertical-align: middle;\n",
       "    }\n",
       "\n",
       "    .dataframe tbody tr th {\n",
       "        vertical-align: top;\n",
       "    }\n",
       "\n",
       "    .dataframe thead th {\n",
       "        text-align: right;\n",
       "    }\n",
       "</style>\n",
       "<table border=\"1\" class=\"dataframe\">\n",
       "  <thead>\n",
       "    <tr style=\"text-align: right;\">\n",
       "      <th></th>\n",
       "      <th>image_name</th>\n",
       "      <th>prompt</th>\n",
       "      <th>part_id</th>\n",
       "      <th>seed</th>\n",
       "      <th>step</th>\n",
       "      <th>cfg</th>\n",
       "      <th>sampler</th>\n",
       "      <th>width</th>\n",
       "      <th>height</th>\n",
       "      <th>user_name</th>\n",
       "      <th>timestamp</th>\n",
       "      <th>image_nsfw</th>\n",
       "      <th>prompt_nsfw</th>\n",
       "    </tr>\n",
       "  </thead>\n",
       "  <tbody>\n",
       "    <tr>\n",
       "      <th>0</th>\n",
       "      <td>2217ccbd-a1c6-47ac-9a2d-79649727c834.png</td>\n",
       "      <td>a portrait of a female robot made from code, v...</td>\n",
       "      <td>1</td>\n",
       "      <td>2615452544</td>\n",
       "      <td>50</td>\n",
       "      <td>7.0</td>\n",
       "      <td>8</td>\n",
       "      <td>512</td>\n",
       "      <td>512</td>\n",
       "      <td>0167cc490c3dc6047be855b096a9b9d8f20e2b034532bd...</td>\n",
       "      <td>2022-08-20 11:56:00+00:00</td>\n",
       "      <td>0.554853</td>\n",
       "      <td>0.001621</td>\n",
       "    </tr>\n",
       "    <tr>\n",
       "      <th>1</th>\n",
       "      <td>c78807b7-d55a-4a2d-a6b6-9192b18941ad.png</td>\n",
       "      <td>a portrait of a female robot made from a cloud...</td>\n",
       "      <td>1</td>\n",
       "      <td>4231506957</td>\n",
       "      <td>50</td>\n",
       "      <td>7.0</td>\n",
       "      <td>8</td>\n",
       "      <td>512</td>\n",
       "      <td>512</td>\n",
       "      <td>0167cc490c3dc6047be855b096a9b9d8f20e2b034532bd...</td>\n",
       "      <td>2022-08-20 11:59:00+00:00</td>\n",
       "      <td>0.153645</td>\n",
       "      <td>0.000707</td>\n",
       "    </tr>\n",
       "    <tr>\n",
       "      <th>2</th>\n",
       "      <td>dc71658a-5e4b-4dca-861a-e1535510348b.png</td>\n",
       "      <td>only memories remain, trending on artstation</td>\n",
       "      <td>1</td>\n",
       "      <td>544607824</td>\n",
       "      <td>50</td>\n",
       "      <td>7.0</td>\n",
       "      <td>8</td>\n",
       "      <td>512</td>\n",
       "      <td>512</td>\n",
       "      <td>0167cc490c3dc6047be855b096a9b9d8f20e2b034532bd...</td>\n",
       "      <td>2022-08-20 12:02:00+00:00</td>\n",
       "      <td>0.062496</td>\n",
       "      <td>0.000425</td>\n",
       "    </tr>\n",
       "    <tr>\n",
       "      <th>3</th>\n",
       "      <td>48eb7e17-a3cf-4eb8-96a9-d8e3e23fa1af.png</td>\n",
       "      <td>dream swimming pool with nobody</td>\n",
       "      <td>1</td>\n",
       "      <td>3500509234</td>\n",
       "      <td>50</td>\n",
       "      <td>7.0</td>\n",
       "      <td>8</td>\n",
       "      <td>512</td>\n",
       "      <td>512</td>\n",
       "      <td>019084defdd44d2dfcd200bf7aaae53034263168e10d6b...</td>\n",
       "      <td>2022-08-20 07:22:00+00:00</td>\n",
       "      <td>0.030799</td>\n",
       "      <td>0.003586</td>\n",
       "    </tr>\n",
       "    <tr>\n",
       "      <th>4</th>\n",
       "      <td>601d9792-eccd-4850-97a7-edbe91d3464c.png</td>\n",
       "      <td>a dog doing weights. epic oil painting.</td>\n",
       "      <td>1</td>\n",
       "      <td>1312381211</td>\n",
       "      <td>50</td>\n",
       "      <td>12.0</td>\n",
       "      <td>8</td>\n",
       "      <td>512</td>\n",
       "      <td>768</td>\n",
       "      <td>03cb377ebf364ea2761b5710625974c0d2d25285fec982...</td>\n",
       "      <td>2022-08-20 12:28:00+00:00</td>\n",
       "      <td>0.181035</td>\n",
       "      <td>0.030822</td>\n",
       "    </tr>\n",
       "  </tbody>\n",
       "</table>\n",
       "</div>"
      ],
      "text/plain": [
       "                                 image_name  \\\n",
       "0  2217ccbd-a1c6-47ac-9a2d-79649727c834.png   \n",
       "1  c78807b7-d55a-4a2d-a6b6-9192b18941ad.png   \n",
       "2  dc71658a-5e4b-4dca-861a-e1535510348b.png   \n",
       "3  48eb7e17-a3cf-4eb8-96a9-d8e3e23fa1af.png   \n",
       "4  601d9792-eccd-4850-97a7-edbe91d3464c.png   \n",
       "\n",
       "                                              prompt  part_id        seed  \\\n",
       "0  a portrait of a female robot made from code, v...        1  2615452544   \n",
       "1  a portrait of a female robot made from a cloud...        1  4231506957   \n",
       "2      only memories remain, trending on artstation         1   544607824   \n",
       "3                   dream swimming pool with nobody         1  3500509234   \n",
       "4           a dog doing weights. epic oil painting.         1  1312381211   \n",
       "\n",
       "   step   cfg  sampler  width  height  \\\n",
       "0    50   7.0        8    512     512   \n",
       "1    50   7.0        8    512     512   \n",
       "2    50   7.0        8    512     512   \n",
       "3    50   7.0        8    512     512   \n",
       "4    50  12.0        8    512     768   \n",
       "\n",
       "                                           user_name  \\\n",
       "0  0167cc490c3dc6047be855b096a9b9d8f20e2b034532bd...   \n",
       "1  0167cc490c3dc6047be855b096a9b9d8f20e2b034532bd...   \n",
       "2  0167cc490c3dc6047be855b096a9b9d8f20e2b034532bd...   \n",
       "3  019084defdd44d2dfcd200bf7aaae53034263168e10d6b...   \n",
       "4  03cb377ebf364ea2761b5710625974c0d2d25285fec982...   \n",
       "\n",
       "                  timestamp  image_nsfw  prompt_nsfw  \n",
       "0 2022-08-20 11:56:00+00:00    0.554853     0.001621  \n",
       "1 2022-08-20 11:59:00+00:00    0.153645     0.000707  \n",
       "2 2022-08-20 12:02:00+00:00    0.062496     0.000425  \n",
       "3 2022-08-20 07:22:00+00:00    0.030799     0.003586  \n",
       "4 2022-08-20 12:28:00+00:00    0.181035     0.030822  "
      ]
     },
     "execution_count": 19,
     "metadata": {},
     "output_type": "execute_result"
    }
   ],
   "source": [
    "table.to_pandas().head()"
   ]
  },
  {
   "cell_type": "code",
   "execution_count": 20,
   "metadata": {},
   "outputs": [],
   "source": [
    "io.table_to_arrow_file(table, \"diffusiondb-100k.arrow\")"
   ]
  }
 ],
 "metadata": {
  "kernelspec": {
   "display_name": "Python 3",
   "language": "python",
   "name": "python3"
  },
  "language_info": {
   "codemirror_mode": {
    "name": "ipython",
    "version": 3
   },
   "file_extension": ".py",
   "mimetype": "text/x-python",
   "name": "python",
   "nbconvert_exporter": "python",
   "pygments_lexer": "ipython3",
   "version": "3.10.8"
  },
  "orig_nbformat": 4,
  "vscode": {
   "interpreter": {
    "hash": "aee8b7b246df8f9039afb4144a1f6fd8d2ca17a180786b69acc140d282b71a49"
   }
  }
 },
 "nbformat": 4,
 "nbformat_minor": 2
}
