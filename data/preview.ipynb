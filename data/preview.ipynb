{
 "cells": [
  {
   "cell_type": "code",
   "execution_count": 1,
   "metadata": {},
   "outputs": [],
   "source": [
    "import dataio"
   ]
  },
  {
   "cell_type": "code",
   "execution_count": 2,
   "metadata": {},
   "outputs": [
    {
     "data": {
      "text/plain": [
       "pyarrow.Table\n",
       "FL_DATE: date32[day]\n",
       "DEP_DELAY: int16\n",
       "ARR_DELAY: int16\n",
       "AIR_TIME: int16\n",
       "DISTANCE: int16\n",
       "DEP_TIME: float\n",
       "ARR_TIME: float\n",
       "----\n",
       "FL_DATE: [[2006-01-01,2006-01-02,2006-01-03,2006-01-04,2006-01-05]]\n",
       "DEP_DELAY: [[5,167,-7,-5,-3]]\n",
       "ARR_DELAY: [[19,216,-2,-13,-17]]\n",
       "AIR_TIME: [[350,343,344,331,321]]\n",
       "DISTANCE: [[2475,2475,2475,2475,2475]]\n",
       "DEP_TIME: [[9.083333,11.783334,8.883333,8.916667,8.95]]\n",
       "ARR_TIME: [[12.483334,15.766666,12.133333,11.95,11.883333]]"
      ]
     },
     "execution_count": 2,
     "metadata": {},
     "output_type": "execute_result"
    }
   ],
   "source": [
    "dataio.n_rows_parquet('./flights-1m.parquet', 5)"
   ]
  },
  {
   "cell_type": "code",
   "execution_count": 3,
   "metadata": {},
   "outputs": [
    {
     "data": {
      "text/plain": [
       "pyarrow.Table\n",
       "FL_DATE: date32[day]\n",
       "DEP_DELAY: int16\n",
       "ARR_DELAY: int16\n",
       "AIR_TIME: int16\n",
       "DISTANCE: int16\n",
       "DEP_TIME: float\n",
       "ARR_TIME: float\n",
       "----\n",
       "FL_DATE: [[2006-01-01,2006-01-02,2006-01-03,2006-01-04,2006-01-05]]\n",
       "DEP_DELAY: [[5,167,-7,-5,-3]]\n",
       "ARR_DELAY: [[19,216,-2,-13,-17]]\n",
       "AIR_TIME: [[350,343,344,331,321]]\n",
       "DISTANCE: [[2475,2475,2475,2475,2475]]\n",
       "DEP_TIME: [[9.083333,11.783334,8.883333,8.916667,8.95]]\n",
       "ARR_TIME: [[12.483334,15.766666,12.133333,11.95,11.883333]]"
      ]
     },
     "execution_count": 3,
     "metadata": {},
     "output_type": "execute_result"
    }
   ],
   "source": [
    "dataio.n_rows_parquet('./flights-1m.parquet', 5)"
   ]
  },
  {
   "cell_type": "code",
   "execution_count": 4,
   "metadata": {},
   "outputs": [
    {
     "data": {
      "text/plain": [
       "pyarrow.Table\n",
       "US_Gross: double\n",
       "Worldwide_Gross: double\n",
       "US_DVD_Sales: double\n",
       "Production_Budget: double\n",
       "Release_Date: string\n",
       "MPAA_Rating: string\n",
       "Running_Time_min: double\n",
       "Distributor: string\n",
       "Source: string\n",
       "Major_Genre: string\n",
       "Creative_Type: string\n",
       "Director: string\n",
       "Rotten_Tomatoes_Rating: double\n",
       "IMDB_Rating: double\n",
       "IMDB_Votes: double\n",
       "----\n",
       "US_Gross: [[146083,10876,203134,373615,1009819]]\n",
       "Worldwide_Gross: [[146083,10876,203134,373615,1087521]]\n",
       "US_DVD_Sales: [[null,null,null,null,null]]\n",
       "Production_Budget: [[8000000,300000,250000,300000,1000000]]\n",
       "Release_Date: [[\"12-Jun-98\",\"7-Aug-98\",\"28-Aug-98\",\"11-Sep-98\",\"9-Oct-98\"]]\n",
       "MPAA_Rating: [[\"R\",\"R\",null,null,\"R\"]]\n",
       "Running_Time_min: [[null,null,null,null,null]]\n",
       "Distributor: [[\"Gramercy\",\"Strand\",\"Lionsgate\",\"Fine Line\",\"Trimark\"]]\n",
       "Source: [[null,null,null,null,\"Original Screenplay\"]]\n",
       "Major_Genre: [[null,\"Drama\",\"Comedy\",\"Comedy\",\"Drama\"]]\n",
       "..."
      ]
     },
     "execution_count": 4,
     "metadata": {},
     "output_type": "execute_result"
    }
   ],
   "source": [
    "dataio.n_rows_parquet('./movies-3k.parquet', 5)"
   ]
  },
  {
   "cell_type": "code",
   "execution_count": 5,
   "metadata": {},
   "outputs": [
    {
     "data": {
      "text/plain": [
       "pyarrow.Table\n",
       "image_name: string\n",
       "prompt: string\n",
       "part_id: uint16\n",
       "seed: uint32\n",
       "step: uint16\n",
       "sampler: uint8\n",
       "width: uint16\n",
       "height: uint16\n",
       "user_name: string\n",
       "timestamp: timestamp[us, tz=UTC]\n",
       "image_nsfw: float\n",
       "prompt_nsfw: float\n",
       "----\n",
       "image_name: [[\"2217ccbd-a1c6-47ac-9a2d-79649727c834.jpg\",\"c78807b7-d55a-4a2d-a6b6-9192b18941ad.jpg\",\"dc71658a-5e4b-4dca-861a-e1535510348b.jpg\",\"48eb7e17-a3cf-4eb8-96a9-d8e3e23fa1af.jpg\",\"601d9792-eccd-4850-97a7-edbe91d3464c.jpg\"]]\n",
       "prompt: [[\"a portrait of a female robot made from code, very intricate details, octane render, 8 k, trending on artstation \",\"a portrait of a female robot made from a cloud of images being very grateful to the creator, very intricate details, futuristic steampunk, octane render, 8 k, trending on artstation \",\"only memories remain, trending on artstation \",\"dream swimming pool with nobody \",\"a dog doing weights. epic oil painting. \"]]\n",
       "part_id: [[1,1,1,1,1]]\n",
       "seed: [[2615452544,4231506957,544607824,3500509234,1312381211]]\n",
       "step: [[50,50,50,50,50]]\n",
       "sampler: [[8,8,8,8,8]]\n",
       "width: [[512,512,512,512,512]]\n",
       "height: [[512,512,512,512,768]]\n",
       "user_name: [[\"0167cc490c3dc6047be855b096a9b9d8f20e2b034532bdf0b6d973b64016e41e\",\"0167cc490c3dc6047be855b096a9b9d8f20e2b034532bdf0b6d973b64016e41e\",\"0167cc490c3dc6047be855b096a9b9d8f20e2b034532bdf0b6d973b64016e41e\",\"019084defdd44d2dfcd200bf7aaae53034263168e10d6bf1d095caa79caac18c\",\"03cb377ebf364ea2761b5710625974c0d2d25285fec982a5a9167db8a71dccc9\"]]\n",
       "timestamp: [[2022-08-20 11:56:00.000000,2022-08-20 11:59:00.000000,2022-08-20 12:02:00.000000,2022-08-20 07:22:00.000000,2022-08-20 12:28:00.000000]]\n",
       "..."
      ]
     },
     "execution_count": 5,
     "metadata": {},
     "output_type": "execute_result"
    }
   ],
   "source": [
    "dataio.n_rows_parquet('./diffusiondb.parquet', 5)"
   ]
  },
  {
   "cell_type": "code",
   "execution_count": 2,
   "metadata": {},
   "outputs": [
    {
     "data": {
      "text/html": [
       "<div>\n",
       "<style scoped>\n",
       "    .dataframe tbody tr th:only-of-type {\n",
       "        vertical-align: middle;\n",
       "    }\n",
       "\n",
       "    .dataframe tbody tr th {\n",
       "        vertical-align: top;\n",
       "    }\n",
       "\n",
       "    .dataframe thead th {\n",
       "        text-align: right;\n",
       "    }\n",
       "</style>\n",
       "<table border=\"1\" class=\"dataframe\">\n",
       "  <thead>\n",
       "    <tr style=\"text-align: right;\">\n",
       "      <th></th>\n",
       "      <th>FlightDate</th>\n",
       "      <th>UniqueCarrier</th>\n",
       "      <th>TailNum</th>\n",
       "      <th>Origin</th>\n",
       "      <th>OriginCityName</th>\n",
       "      <th>OriginState</th>\n",
       "      <th>Dest</th>\n",
       "      <th>DestCityName</th>\n",
       "      <th>DestState</th>\n",
       "      <th>CRSDepTime</th>\n",
       "      <th>...</th>\n",
       "      <th>Diverted</th>\n",
       "      <th>CRSElapsedTime</th>\n",
       "      <th>ActualElapsedTime</th>\n",
       "      <th>AirTime</th>\n",
       "      <th>Distance</th>\n",
       "      <th>CarrierDelay</th>\n",
       "      <th>WeatherDelay</th>\n",
       "      <th>NASDelay</th>\n",
       "      <th>SecurityDelay</th>\n",
       "      <th>LateAircraftDelay</th>\n",
       "    </tr>\n",
       "  </thead>\n",
       "  <tbody>\n",
       "    <tr>\n",
       "      <th>0</th>\n",
       "      <td>2006-01-01</td>\n",
       "      <td>AA</td>\n",
       "      <td>N325AA</td>\n",
       "      <td>JFK</td>\n",
       "      <td>New York</td>\n",
       "      <td>NY</td>\n",
       "      <td>LAX</td>\n",
       "      <td>Los Angeles</td>\n",
       "      <td>CA</td>\n",
       "      <td>900</td>\n",
       "      <td>...</td>\n",
       "      <td>0.0</td>\n",
       "      <td>370.0</td>\n",
       "      <td>384.0</td>\n",
       "      <td>350.0</td>\n",
       "      <td>2475.0</td>\n",
       "      <td>0.0</td>\n",
       "      <td>0.0</td>\n",
       "      <td>19.0</td>\n",
       "      <td>0.0</td>\n",
       "      <td>0.0</td>\n",
       "    </tr>\n",
       "    <tr>\n",
       "      <th>1</th>\n",
       "      <td>2006-01-02</td>\n",
       "      <td>AA</td>\n",
       "      <td>N338AA</td>\n",
       "      <td>JFK</td>\n",
       "      <td>New York</td>\n",
       "      <td>NY</td>\n",
       "      <td>LAX</td>\n",
       "      <td>Los Angeles</td>\n",
       "      <td>CA</td>\n",
       "      <td>900</td>\n",
       "      <td>...</td>\n",
       "      <td>0.0</td>\n",
       "      <td>370.0</td>\n",
       "      <td>419.0</td>\n",
       "      <td>343.0</td>\n",
       "      <td>2475.0</td>\n",
       "      <td>167.0</td>\n",
       "      <td>0.0</td>\n",
       "      <td>49.0</td>\n",
       "      <td>0.0</td>\n",
       "      <td>0.0</td>\n",
       "    </tr>\n",
       "    <tr>\n",
       "      <th>2</th>\n",
       "      <td>2006-01-03</td>\n",
       "      <td>AA</td>\n",
       "      <td>N319AA</td>\n",
       "      <td>JFK</td>\n",
       "      <td>New York</td>\n",
       "      <td>NY</td>\n",
       "      <td>LAX</td>\n",
       "      <td>Los Angeles</td>\n",
       "      <td>CA</td>\n",
       "      <td>900</td>\n",
       "      <td>...</td>\n",
       "      <td>0.0</td>\n",
       "      <td>370.0</td>\n",
       "      <td>375.0</td>\n",
       "      <td>344.0</td>\n",
       "      <td>2475.0</td>\n",
       "      <td>NaN</td>\n",
       "      <td>NaN</td>\n",
       "      <td>NaN</td>\n",
       "      <td>NaN</td>\n",
       "      <td>NaN</td>\n",
       "    </tr>\n",
       "    <tr>\n",
       "      <th>3</th>\n",
       "      <td>2006-01-04</td>\n",
       "      <td>AA</td>\n",
       "      <td>N338AA</td>\n",
       "      <td>JFK</td>\n",
       "      <td>New York</td>\n",
       "      <td>NY</td>\n",
       "      <td>LAX</td>\n",
       "      <td>Los Angeles</td>\n",
       "      <td>CA</td>\n",
       "      <td>900</td>\n",
       "      <td>...</td>\n",
       "      <td>0.0</td>\n",
       "      <td>370.0</td>\n",
       "      <td>362.0</td>\n",
       "      <td>331.0</td>\n",
       "      <td>2475.0</td>\n",
       "      <td>NaN</td>\n",
       "      <td>NaN</td>\n",
       "      <td>NaN</td>\n",
       "      <td>NaN</td>\n",
       "      <td>NaN</td>\n",
       "    </tr>\n",
       "    <tr>\n",
       "      <th>4</th>\n",
       "      <td>2006-01-05</td>\n",
       "      <td>AA</td>\n",
       "      <td>N339AA</td>\n",
       "      <td>JFK</td>\n",
       "      <td>New York</td>\n",
       "      <td>NY</td>\n",
       "      <td>LAX</td>\n",
       "      <td>Los Angeles</td>\n",
       "      <td>CA</td>\n",
       "      <td>900</td>\n",
       "      <td>...</td>\n",
       "      <td>0.0</td>\n",
       "      <td>370.0</td>\n",
       "      <td>356.0</td>\n",
       "      <td>321.0</td>\n",
       "      <td>2475.0</td>\n",
       "      <td>NaN</td>\n",
       "      <td>NaN</td>\n",
       "      <td>NaN</td>\n",
       "      <td>NaN</td>\n",
       "      <td>NaN</td>\n",
       "    </tr>\n",
       "  </tbody>\n",
       "</table>\n",
       "<p>5 rows × 31 columns</p>\n",
       "</div>"
      ],
      "text/plain": [
       "   FlightDate UniqueCarrier TailNum Origin OriginCityName OriginState Dest  \\\n",
       "0  2006-01-01            AA  N325AA    JFK       New York          NY  LAX   \n",
       "1  2006-01-02            AA  N338AA    JFK       New York          NY  LAX   \n",
       "2  2006-01-03            AA  N319AA    JFK       New York          NY  LAX   \n",
       "3  2006-01-04            AA  N338AA    JFK       New York          NY  LAX   \n",
       "4  2006-01-05            AA  N339AA    JFK       New York          NY  LAX   \n",
       "\n",
       "  DestCityName DestState  CRSDepTime  ...  Diverted  CRSElapsedTime  \\\n",
       "0  Los Angeles        CA         900  ...       0.0           370.0   \n",
       "1  Los Angeles        CA         900  ...       0.0           370.0   \n",
       "2  Los Angeles        CA         900  ...       0.0           370.0   \n",
       "3  Los Angeles        CA         900  ...       0.0           370.0   \n",
       "4  Los Angeles        CA         900  ...       0.0           370.0   \n",
       "\n",
       "   ActualElapsedTime  AirTime  Distance  CarrierDelay  WeatherDelay  NASDelay  \\\n",
       "0              384.0    350.0    2475.0           0.0           0.0      19.0   \n",
       "1              419.0    343.0    2475.0         167.0           0.0      49.0   \n",
       "2              375.0    344.0    2475.0           NaN           NaN       NaN   \n",
       "3              362.0    331.0    2475.0           NaN           NaN       NaN   \n",
       "4              356.0    321.0    2475.0           NaN           NaN       NaN   \n",
       "\n",
       "   SecurityDelay  LateAircraftDelay  \n",
       "0            0.0                0.0  \n",
       "1            0.0                0.0  \n",
       "2            NaN                NaN  \n",
       "3            NaN                NaN  \n",
       "4            NaN                NaN  \n",
       "\n",
       "[5 rows x 31 columns]"
      ]
     },
     "execution_count": 2,
     "metadata": {},
     "output_type": "execute_result"
    }
   ],
   "source": [
    "dataio.n_rows_parquet(\"./flights/flights-10m.parquet\", 5).to_pandas().head()"
   ]
  },
  {
   "cell_type": "code",
   "execution_count": null,
   "metadata": {},
   "outputs": [],
   "source": []
  }
 ],
 "metadata": {
  "kernelspec": {
   "display_name": "Python 3",
   "language": "python",
   "name": "python3"
  },
  "language_info": {
   "codemirror_mode": {
    "name": "ipython",
    "version": 3
   },
   "file_extension": ".py",
   "mimetype": "text/x-python",
   "name": "python",
   "nbconvert_exporter": "python",
   "pygments_lexer": "ipython3",
   "version": "3.11.2"
  },
  "orig_nbformat": 4,
  "vscode": {
   "interpreter": {
    "hash": "aee8b7b246df8f9039afb4144a1f6fd8d2ca17a180786b69acc140d282b71a49"
   }
  }
 },
 "nbformat": 4,
 "nbformat_minor": 2
}
