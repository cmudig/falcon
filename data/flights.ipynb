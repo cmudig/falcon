{
 "cells": [
  {
   "cell_type": "code",
   "execution_count": 6,
   "metadata": {},
   "outputs": [],
   "source": [
    "import pandas as pd\n",
    "import numpy as np\n",
    "import dataio"
   ]
  },
  {
   "cell_type": "code",
   "execution_count": 2,
   "metadata": {},
   "outputs": [],
   "source": [
    "path = \"flights_2006_2010.csv\"\n",
    "df = pd.read_csv('flights_2006_2010.csv', sep='\\t', encoding='utf-8', dtype={'FlightDate': 'str', 'ArrTime': 'str', 'DepTime': 'str'})"
   ]
  },
  {
   "cell_type": "code",
   "execution_count": 7,
   "metadata": {},
   "outputs": [],
   "source": [
    "df['FlightDate'] = pd.to_datetime(df[\"FlightDate\"], format='%Y-%m-%d').dt.date\n",
    "\n",
    "df[\"DepTime\"] = df[\"DepTime\"].replace('2400', '0000')\n",
    "df[\"ArrTime\"] = df[\"ArrTime\"].replace('2400', '0000')\n",
    "\n",
    "def to_time(col):\n",
    "    col = pd.to_numeric(col)\n",
    "    col = (col/100).apply(np.floor) + (col.mod(100)) / 60.\n",
    "    return col\n",
    "\n",
    "df[\"DepTime\"] = to_time(df[\"DepTime\"])\n",
    "df[\"ArrTime\"] = to_time(df[\"ArrTime\"])"
   ]
  },
  {
   "cell_type": "code",
   "execution_count": 15,
   "metadata": {},
   "outputs": [
    {
     "data": {
      "text/html": [
       "<div>\n",
       "<style scoped>\n",
       "    .dataframe tbody tr th:only-of-type {\n",
       "        vertical-align: middle;\n",
       "    }\n",
       "\n",
       "    .dataframe tbody tr th {\n",
       "        vertical-align: top;\n",
       "    }\n",
       "\n",
       "    .dataframe thead th {\n",
       "        text-align: right;\n",
       "    }\n",
       "</style>\n",
       "<table border=\"1\" class=\"dataframe\">\n",
       "  <thead>\n",
       "    <tr style=\"text-align: right;\">\n",
       "      <th></th>\n",
       "      <th>FlightDate</th>\n",
       "      <th>UniqueCarrier</th>\n",
       "      <th>TailNum</th>\n",
       "      <th>Origin</th>\n",
       "      <th>OriginCityName</th>\n",
       "      <th>OriginState</th>\n",
       "      <th>Dest</th>\n",
       "      <th>DestCityName</th>\n",
       "      <th>DestState</th>\n",
       "      <th>CRSDepTime</th>\n",
       "      <th>...</th>\n",
       "      <th>Diverted</th>\n",
       "      <th>CRSElapsedTime</th>\n",
       "      <th>ActualElapsedTime</th>\n",
       "      <th>AirTime</th>\n",
       "      <th>Distance</th>\n",
       "      <th>CarrierDelay</th>\n",
       "      <th>WeatherDelay</th>\n",
       "      <th>NASDelay</th>\n",
       "      <th>SecurityDelay</th>\n",
       "      <th>LateAircraftDelay</th>\n",
       "    </tr>\n",
       "  </thead>\n",
       "  <tbody>\n",
       "    <tr>\n",
       "      <th>0</th>\n",
       "      <td>2006-01-01</td>\n",
       "      <td>AA</td>\n",
       "      <td>N325AA</td>\n",
       "      <td>JFK</td>\n",
       "      <td>New York</td>\n",
       "      <td>NY</td>\n",
       "      <td>LAX</td>\n",
       "      <td>Los Angeles</td>\n",
       "      <td>CA</td>\n",
       "      <td>900</td>\n",
       "      <td>...</td>\n",
       "      <td>0.0</td>\n",
       "      <td>370.0</td>\n",
       "      <td>384.0</td>\n",
       "      <td>350.0</td>\n",
       "      <td>2475.0</td>\n",
       "      <td>0.0</td>\n",
       "      <td>0.0</td>\n",
       "      <td>19.0</td>\n",
       "      <td>0.0</td>\n",
       "      <td>0.0</td>\n",
       "    </tr>\n",
       "    <tr>\n",
       "      <th>1</th>\n",
       "      <td>2006-01-02</td>\n",
       "      <td>AA</td>\n",
       "      <td>N338AA</td>\n",
       "      <td>JFK</td>\n",
       "      <td>New York</td>\n",
       "      <td>NY</td>\n",
       "      <td>LAX</td>\n",
       "      <td>Los Angeles</td>\n",
       "      <td>CA</td>\n",
       "      <td>900</td>\n",
       "      <td>...</td>\n",
       "      <td>0.0</td>\n",
       "      <td>370.0</td>\n",
       "      <td>419.0</td>\n",
       "      <td>343.0</td>\n",
       "      <td>2475.0</td>\n",
       "      <td>167.0</td>\n",
       "      <td>0.0</td>\n",
       "      <td>49.0</td>\n",
       "      <td>0.0</td>\n",
       "      <td>0.0</td>\n",
       "    </tr>\n",
       "    <tr>\n",
       "      <th>2</th>\n",
       "      <td>2006-01-03</td>\n",
       "      <td>AA</td>\n",
       "      <td>N319AA</td>\n",
       "      <td>JFK</td>\n",
       "      <td>New York</td>\n",
       "      <td>NY</td>\n",
       "      <td>LAX</td>\n",
       "      <td>Los Angeles</td>\n",
       "      <td>CA</td>\n",
       "      <td>900</td>\n",
       "      <td>...</td>\n",
       "      <td>0.0</td>\n",
       "      <td>370.0</td>\n",
       "      <td>375.0</td>\n",
       "      <td>344.0</td>\n",
       "      <td>2475.0</td>\n",
       "      <td>NaN</td>\n",
       "      <td>NaN</td>\n",
       "      <td>NaN</td>\n",
       "      <td>NaN</td>\n",
       "      <td>NaN</td>\n",
       "    </tr>\n",
       "    <tr>\n",
       "      <th>3</th>\n",
       "      <td>2006-01-04</td>\n",
       "      <td>AA</td>\n",
       "      <td>N338AA</td>\n",
       "      <td>JFK</td>\n",
       "      <td>New York</td>\n",
       "      <td>NY</td>\n",
       "      <td>LAX</td>\n",
       "      <td>Los Angeles</td>\n",
       "      <td>CA</td>\n",
       "      <td>900</td>\n",
       "      <td>...</td>\n",
       "      <td>0.0</td>\n",
       "      <td>370.0</td>\n",
       "      <td>362.0</td>\n",
       "      <td>331.0</td>\n",
       "      <td>2475.0</td>\n",
       "      <td>NaN</td>\n",
       "      <td>NaN</td>\n",
       "      <td>NaN</td>\n",
       "      <td>NaN</td>\n",
       "      <td>NaN</td>\n",
       "    </tr>\n",
       "    <tr>\n",
       "      <th>4</th>\n",
       "      <td>2006-01-05</td>\n",
       "      <td>AA</td>\n",
       "      <td>N339AA</td>\n",
       "      <td>JFK</td>\n",
       "      <td>New York</td>\n",
       "      <td>NY</td>\n",
       "      <td>LAX</td>\n",
       "      <td>Los Angeles</td>\n",
       "      <td>CA</td>\n",
       "      <td>900</td>\n",
       "      <td>...</td>\n",
       "      <td>0.0</td>\n",
       "      <td>370.0</td>\n",
       "      <td>356.0</td>\n",
       "      <td>321.0</td>\n",
       "      <td>2475.0</td>\n",
       "      <td>NaN</td>\n",
       "      <td>NaN</td>\n",
       "      <td>NaN</td>\n",
       "      <td>NaN</td>\n",
       "      <td>NaN</td>\n",
       "    </tr>\n",
       "  </tbody>\n",
       "</table>\n",
       "<p>5 rows × 31 columns</p>\n",
       "</div>"
      ],
      "text/plain": [
       "   FlightDate UniqueCarrier TailNum Origin OriginCityName OriginState Dest  \\\n",
       "0  2006-01-01            AA  N325AA    JFK       New York          NY  LAX   \n",
       "1  2006-01-02            AA  N338AA    JFK       New York          NY  LAX   \n",
       "2  2006-01-03            AA  N319AA    JFK       New York          NY  LAX   \n",
       "3  2006-01-04            AA  N338AA    JFK       New York          NY  LAX   \n",
       "4  2006-01-05            AA  N339AA    JFK       New York          NY  LAX   \n",
       "\n",
       "  DestCityName DestState  CRSDepTime  ...  Diverted  CRSElapsedTime  \\\n",
       "0  Los Angeles        CA         900  ...       0.0           370.0   \n",
       "1  Los Angeles        CA         900  ...       0.0           370.0   \n",
       "2  Los Angeles        CA         900  ...       0.0           370.0   \n",
       "3  Los Angeles        CA         900  ...       0.0           370.0   \n",
       "4  Los Angeles        CA         900  ...       0.0           370.0   \n",
       "\n",
       "   ActualElapsedTime  AirTime  Distance  CarrierDelay  WeatherDelay  NASDelay  \\\n",
       "0              384.0    350.0    2475.0           0.0           0.0      19.0   \n",
       "1              419.0    343.0    2475.0         167.0           0.0      49.0   \n",
       "2              375.0    344.0    2475.0           NaN           NaN       NaN   \n",
       "3              362.0    331.0    2475.0           NaN           NaN       NaN   \n",
       "4              356.0    321.0    2475.0           NaN           NaN       NaN   \n",
       "\n",
       "   SecurityDelay  LateAircraftDelay  \n",
       "0            0.0                0.0  \n",
       "1            0.0                0.0  \n",
       "2            NaN                NaN  \n",
       "3            NaN                NaN  \n",
       "4            NaN                NaN  \n",
       "\n",
       "[5 rows x 31 columns]"
      ]
     },
     "execution_count": 15,
     "metadata": {},
     "output_type": "execute_result"
    }
   ],
   "source": [
    "df.head()"
   ]
  },
  {
   "cell_type": "code",
   "execution_count": 10,
   "metadata": {},
   "outputs": [
    {
     "data": {
      "text/plain": [
       "Index(['FlightDate', 'UniqueCarrier', 'TailNum', 'Origin', 'OriginCityName',\n",
       "       'OriginState', 'Dest', 'DestCityName', 'DestState', 'CRSDepTime',\n",
       "       'DepTime', 'DepDelay', 'TaxiOut', 'WheelsOff', 'WheelsOn', 'TaxiIn',\n",
       "       'CRSArrTime', 'ArrTime', 'ArrDelay', 'Cancelled', 'CancellationCode',\n",
       "       'Diverted', 'CRSElapsedTime', 'ActualElapsedTime', 'AirTime',\n",
       "       'Distance', 'CarrierDelay', 'WeatherDelay', 'NASDelay', 'SecurityDelay',\n",
       "       'LateAircraftDelay'],\n",
       "      dtype='object')"
      ]
     },
     "execution_count": 10,
     "metadata": {},
     "output_type": "execute_result"
    }
   ],
   "source": [
    "df.keys()"
   ]
  },
  {
   "cell_type": "code",
   "execution_count": 11,
   "metadata": {},
   "outputs": [],
   "source": [
    "df.to_parquet(\"flights_2006_2010.parquet\", index=False)"
   ]
  },
  {
   "cell_type": "code",
   "execution_count": 13,
   "metadata": {},
   "outputs": [
    {
     "name": "stdout",
     "output_type": "stream",
     "text": [
      "-rw-r--r--  1 donnybertucci  staff      163402 Nov 15 23:34 flights-10k.arrow\n",
      "-rw-r--r--  1 donnybertucci  staff      409627 Nov 15 23:34 flights-10k.csv\n",
      "-rw-r--r--  1 donnybertucci  staff      419234 Nov 15 23:34 flights-10k.json\n",
      "-rw-r--r--  1 donnybertucci  staff    16003402 Nov 15 23:34 flights-1m.arrow\n",
      "-rw-r--r--  1 donnybertucci  staff    32221440 Nov 15 23:34 flights-1m.csv\n",
      "-rw-r--r--  1 donnybertucci  staff     7301503 Nov 15 23:34 flights-1m.parquet\n",
      "-rw-r--r--  1 donnybertucci  staff     8069113 Nov 15 23:34 flights-200k.csv\n",
      "-rw-r--r--  1 donnybertucci  staff    96799077 Nov 15 23:34 flights-3m.csv\n",
      "-rw-r--r--  1 donnybertucci  staff    18564267 Nov 15 23:34 flights-500k.csv\n",
      "-rw-r--r--  1 donnybertucci  staff       10465 Mar  8 16:49 flights.ipynb\n",
      "-rw-r--r--@ 1 donnybertucci  staff  5362072457 Mar  8 16:33 flights_2006_2010.csv\n",
      "-rw-r--r--  1 donnybertucci  staff   731775437 Mar  8 16:49 flights_2006_2010.parquet\n"
     ]
    }
   ],
   "source": [
    "!ls -l flights*"
   ]
  },
  {
   "cell_type": "code",
   "execution_count": 14,
   "metadata": {},
   "outputs": [
    {
     "name": "stdout",
     "output_type": "stream",
     "text": [
      "34,507,508\n"
     ]
    }
   ],
   "source": [
    "# format number with commas\n",
    "print(f\"{len(df):,}\")"
   ]
  }
 ],
 "metadata": {
  "kernelspec": {
   "display_name": "Python 3",
   "language": "python",
   "name": "python3"
  },
  "language_info": {
   "codemirror_mode": {
    "name": "ipython",
    "version": 3
   },
   "file_extension": ".py",
   "mimetype": "text/x-python",
   "name": "python",
   "nbconvert_exporter": "python",
   "pygments_lexer": "ipython3",
   "version": "3.11.2"
  },
  "orig_nbformat": 4
 },
 "nbformat": 4,
 "nbformat_minor": 2
}
